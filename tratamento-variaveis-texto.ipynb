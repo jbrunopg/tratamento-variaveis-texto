{
 "cells": [
  {
   "cell_type": "code",
   "execution_count": 1,
   "id": "eb47bf88",
   "metadata": {},
   "outputs": [],
   "source": [
    "# Importando o Pandas\n",
    "\n",
    "import pandas as pd"
   ]
  },
  {
   "cell_type": "code",
   "execution_count": 2,
   "id": "b085822e",
   "metadata": {
    "scrolled": true
   },
   "outputs": [
    {
     "data": {
      "text/html": [
       "<div>\n",
       "<style scoped>\n",
       "    .dataframe tbody tr th:only-of-type {\n",
       "        vertical-align: middle;\n",
       "    }\n",
       "\n",
       "    .dataframe tbody tr th {\n",
       "        vertical-align: top;\n",
       "    }\n",
       "\n",
       "    .dataframe thead th {\n",
       "        text-align: right;\n",
       "    }\n",
       "</style>\n",
       "<table border=\"1\" class=\"dataframe\">\n",
       "  <thead>\n",
       "    <tr style=\"text-align: right;\">\n",
       "      <th></th>\n",
       "      <th>airline</th>\n",
       "      <th>flight</th>\n",
       "      <th>source_city</th>\n",
       "      <th>departure_time</th>\n",
       "      <th>stops</th>\n",
       "      <th>arrival_time</th>\n",
       "      <th>destination_city</th>\n",
       "      <th>class</th>\n",
       "      <th>duration</th>\n",
       "      <th>days_left</th>\n",
       "      <th>price</th>\n",
       "    </tr>\n",
       "  </thead>\n",
       "  <tbody>\n",
       "    <tr>\n",
       "      <th>0</th>\n",
       "      <td>SpiceJet</td>\n",
       "      <td>SG-8709</td>\n",
       "      <td>Delhi</td>\n",
       "      <td>Evening</td>\n",
       "      <td>zero</td>\n",
       "      <td>Night</td>\n",
       "      <td>Mumbai</td>\n",
       "      <td>Economy</td>\n",
       "      <td>2.17</td>\n",
       "      <td>1</td>\n",
       "      <td>5953</td>\n",
       "    </tr>\n",
       "    <tr>\n",
       "      <th>1</th>\n",
       "      <td>SpiceJet</td>\n",
       "      <td>SG-8157</td>\n",
       "      <td>Delhi</td>\n",
       "      <td>Early_Morning</td>\n",
       "      <td>zero</td>\n",
       "      <td>Morning</td>\n",
       "      <td>Mumbai</td>\n",
       "      <td>Economy</td>\n",
       "      <td>2.33</td>\n",
       "      <td>1</td>\n",
       "      <td>5953</td>\n",
       "    </tr>\n",
       "    <tr>\n",
       "      <th>2</th>\n",
       "      <td>AirAsia</td>\n",
       "      <td>I5-764</td>\n",
       "      <td>Delhi</td>\n",
       "      <td>Early_Morning</td>\n",
       "      <td>zero</td>\n",
       "      <td>Early_Morning</td>\n",
       "      <td>Mumbai</td>\n",
       "      <td>Economy</td>\n",
       "      <td>2.17</td>\n",
       "      <td>1</td>\n",
       "      <td>5956</td>\n",
       "    </tr>\n",
       "  </tbody>\n",
       "</table>\n",
       "</div>"
      ],
      "text/plain": [
       "    airline   flight source_city departure_time stops   arrival_time  \\\n",
       "0  SpiceJet  SG-8709       Delhi        Evening  zero          Night   \n",
       "1  SpiceJet  SG-8157       Delhi  Early_Morning  zero        Morning   \n",
       "2   AirAsia   I5-764       Delhi  Early_Morning  zero  Early_Morning   \n",
       "\n",
       "  destination_city    class  duration  days_left  price  \n",
       "0           Mumbai  Economy      2.17          1   5953  \n",
       "1           Mumbai  Economy      2.33          1   5953  \n",
       "2           Mumbai  Economy      2.17          1   5956  "
      ]
     },
     "execution_count": 2,
     "metadata": {},
     "output_type": "execute_result"
    }
   ],
   "source": [
    "# Importando base de dados\n",
    "\n",
    "tabela = pd.read_csv(r'C:\\Users\\Lucy Minene\\Desktop\\tratamento-variaveis-texto\\Clean_Dataset.csv', index_col=[0])\n",
    "\n",
    "tabela.head(3)"
   ]
  },
  {
   "cell_type": "code",
   "execution_count": 3,
   "id": "7a7769ac",
   "metadata": {},
   "outputs": [],
   "source": [
    "# Traduzindo os nomes das colunas\n",
    "\n",
    "tabela.columns = ['empresa_area', 'voo', 'origem', 'hr_embarque', \n",
    "                  'paradas', 'hr_chegada', 'destino', 'classe', 'duracao', 'dias_antes', 'preco']"
   ]
  },
  {
   "cell_type": "code",
   "execution_count": 4,
   "id": "d1756f4e",
   "metadata": {},
   "outputs": [
    {
     "name": "stdout",
     "output_type": "stream",
     "text": [
      "<class 'pandas.core.frame.DataFrame'>\n",
      "Int64Index: 300153 entries, 0 to 300152\n",
      "Data columns (total 11 columns):\n",
      " #   Column        Non-Null Count   Dtype  \n",
      "---  ------        --------------   -----  \n",
      " 0   empresa_area  300153 non-null  object \n",
      " 1   voo           300153 non-null  object \n",
      " 2   origem        300153 non-null  object \n",
      " 3   hr_embarque   300153 non-null  object \n",
      " 4   paradas       300153 non-null  object \n",
      " 5   hr_chegada    300153 non-null  object \n",
      " 6   destino       300153 non-null  object \n",
      " 7   classe        300153 non-null  object \n",
      " 8   duracao       300153 non-null  float64\n",
      " 9   dias_antes    300153 non-null  int64  \n",
      " 10  preco         300153 non-null  int64  \n",
      "dtypes: float64(1), int64(2), object(8)\n",
      "memory usage: 27.5+ MB\n"
     ]
    }
   ],
   "source": [
    "# Verificando as informações do DF\n",
    "# Colunas 0 a 7 estão todas no formato de texto\n",
    "\n",
    "tabela.info()"
   ]
  },
  {
   "cell_type": "markdown",
   "id": "13f86e28",
   "metadata": {},
   "source": [
    "## Eliminando coluna desnecessária"
   ]
  },
  {
   "cell_type": "code",
   "execution_count": 5,
   "id": "bdb22506",
   "metadata": {},
   "outputs": [
    {
     "data": {
      "text/plain": [
       "empresa_area        6\n",
       "voo              1561\n",
       "origem              6\n",
       "hr_embarque         6\n",
       "paradas             3\n",
       "hr_chegada          6\n",
       "destino             6\n",
       "classe              2\n",
       "duracao           476\n",
       "dias_antes         49\n",
       "preco           12157\n",
       "dtype: int64"
      ]
     },
     "execution_count": 5,
     "metadata": {},
     "output_type": "execute_result"
    }
   ],
   "source": [
    "#Verificando a cardinalidade do Data Frame\n",
    "\n",
    "tabela.nunique()"
   ]
  },
  {
   "cell_type": "code",
   "execution_count": 6,
   "id": "d8641b8f",
   "metadata": {},
   "outputs": [],
   "source": [
    "# Eliminando a coluna 'voo'\n",
    "\n",
    "tabela = tabela.drop('voo', axis=1)"
   ]
  },
  {
   "cell_type": "markdown",
   "id": "6bfd5831",
   "metadata": {},
   "source": [
    "##  Utilizando apply e lambda function"
   ]
  },
  {
   "cell_type": "code",
   "execution_count": 7,
   "id": "29f15871",
   "metadata": {},
   "outputs": [
    {
     "data": {
      "text/plain": [
       "Economy     206666\n",
       "Business     93487\n",
       "Name: classe, dtype: int64"
      ]
     },
     "execution_count": 7,
     "metadata": {},
     "output_type": "execute_result"
    }
   ],
   "source": [
    "# Visualizando os valores da coluna 'class'\n",
    "\n",
    "tabela.classe.value_counts()"
   ]
  },
  {
   "cell_type": "markdown",
   "id": "060ed7ec",
   "metadata": {},
   "source": [
    "#### Como exitem apenas 2 tipos de classe, economica e executiva, irei criar uma coluna com o valor 1 para classe economica e valor 0 para classe executiva."
   ]
  },
  {
   "cell_type": "code",
   "execution_count": 8,
   "id": "259a203b",
   "metadata": {},
   "outputs": [],
   "source": [
    "# Criando a nova coluna\n",
    "\n",
    "tabela['economica'] = tabela.classe.apply(lambda x:1 if x == 'Economy' else 0)"
   ]
  },
  {
   "cell_type": "code",
   "execution_count": 9,
   "id": "6e8c4fb5",
   "metadata": {},
   "outputs": [
    {
     "data": {
      "text/plain": [
       "classe    economica\n",
       "Economy   1            206666\n",
       "Business  0             93487\n",
       "dtype: int64"
      ]
     },
     "execution_count": 9,
     "metadata": {},
     "output_type": "execute_result"
    }
   ],
   "source": [
    "# Visualizando valores\n",
    "\n",
    "tabela[['classe', 'economica']].value_counts()"
   ]
  },
  {
   "cell_type": "markdown",
   "id": "f22baacf",
   "metadata": {},
   "source": [
    "### Criando uma função para tratamento dos dados"
   ]
  },
  {
   "cell_type": "code",
   "execution_count": 10,
   "id": "3cf70fc9",
   "metadata": {},
   "outputs": [
    {
     "data": {
      "text/plain": [
       "one            250863\n",
       "zero            36004\n",
       "two_or_more     13286\n",
       "Name: paradas, dtype: int64"
      ]
     },
     "execution_count": 10,
     "metadata": {},
     "output_type": "execute_result"
    }
   ],
   "source": [
    "# Visualizando os valores da coluna \"paradas\"\n",
    "\n",
    "tabela.paradas.value_counts()"
   ]
  },
  {
   "cell_type": "code",
   "execution_count": 11,
   "id": "c9148a71",
   "metadata": {},
   "outputs": [],
   "source": [
    "# Criando uma função para tratar os valores da coluna \"paradas\"\n",
    "\n",
    "def num_paradas(valor):\n",
    "    if valor == 'zero':\n",
    "        return 0\n",
    "    elif valor == 'one':\n",
    "        return 1\n",
    "    elif valor == 'two_or_more':\n",
    "        return 2\n",
    "    else:\n",
    "        return -1"
   ]
  },
  {
   "cell_type": "code",
   "execution_count": 12,
   "id": "4234c446",
   "metadata": {},
   "outputs": [],
   "source": [
    "# Aplicando a função\n",
    "\n",
    "tabela['num_paradas'] = tabela.paradas.apply(num_paradas)"
   ]
  },
  {
   "cell_type": "code",
   "execution_count": 13,
   "id": "8a06614a",
   "metadata": {},
   "outputs": [
    {
     "data": {
      "text/plain": [
       "paradas      num_paradas\n",
       "one          1              250863\n",
       "zero         0               36004\n",
       "two_or_more  2               13286\n",
       "dtype: int64"
      ]
     },
     "execution_count": 13,
     "metadata": {},
     "output_type": "execute_result"
    }
   ],
   "source": [
    "# Visualizando valores\n",
    "\n",
    "tabela[['paradas', 'num_paradas']].value_counts()"
   ]
  },
  {
   "cell_type": "markdown",
   "id": "c20736fd",
   "metadata": {},
   "source": [
    "### Utilizando OneHotEncoder"
   ]
  },
  {
   "cell_type": "code",
   "execution_count": 14,
   "id": "ed4081ca",
   "metadata": {},
   "outputs": [
    {
     "data": {
      "text/plain": [
       "Vistara      127859\n",
       "Air_India     80892\n",
       "Indigo        43120\n",
       "GO_FIRST      23173\n",
       "AirAsia       16098\n",
       "SpiceJet       9011\n",
       "Name: empresa_area, dtype: int64"
      ]
     },
     "execution_count": 14,
     "metadata": {},
     "output_type": "execute_result"
    }
   ],
   "source": [
    "# Verificando a coluna \"empresa_área\"\n",
    "\n",
    "tabela.empresa_area.value_counts()"
   ]
  },
  {
   "cell_type": "code",
   "execution_count": 15,
   "id": "8e8cf615",
   "metadata": {},
   "outputs": [
    {
     "data": {
      "text/plain": [
       "<300153x6 sparse matrix of type '<class 'numpy.float64'>'\n",
       "\twith 300153 stored elements in Compressed Sparse Row format>"
      ]
     },
     "execution_count": 15,
     "metadata": {},
     "output_type": "execute_result"
    }
   ],
   "source": [
    "# Criando o codificador\n",
    "\n",
    "from sklearn.preprocessing import OneHotEncoder\n",
    "\n",
    "ohe_empresa_area = OneHotEncoder(handle_unknown='ignore')\n",
    "\n",
    "# Fazendo fit com os dados\n",
    "\n",
    "ohe_empresa_area = ohe_empresa_area.fit(tabela[['empresa_area']])\n",
    "\n",
    "# Fazendo a transformação dos dados\n",
    "\n",
    "ohe_empresa_area.transform(tabela[['empresa_area']])"
   ]
  },
  {
   "cell_type": "code",
   "execution_count": 16,
   "id": "fb5a80ca",
   "metadata": {},
   "outputs": [
    {
     "data": {
      "text/plain": [
       "array([[0., 0., 0., 0., 1., 0.],\n",
       "       [0., 0., 0., 0., 1., 0.],\n",
       "       [1., 0., 0., 0., 0., 0.],\n",
       "       ...,\n",
       "       [0., 0., 0., 0., 0., 1.],\n",
       "       [0., 0., 0., 0., 0., 1.],\n",
       "       [0., 0., 0., 0., 0., 1.]])"
      ]
     },
     "execution_count": 16,
     "metadata": {},
     "output_type": "execute_result"
    }
   ],
   "source": [
    "# Visualizando no formato de array\n",
    "\n",
    "ohe_empresa_area.transform(tabela[['empresa_area']]).toarray()"
   ]
  },
  {
   "cell_type": "code",
   "execution_count": 17,
   "id": "3e5e2137",
   "metadata": {},
   "outputs": [
    {
     "data": {
      "text/html": [
       "<div>\n",
       "<style scoped>\n",
       "    .dataframe tbody tr th:only-of-type {\n",
       "        vertical-align: middle;\n",
       "    }\n",
       "\n",
       "    .dataframe tbody tr th {\n",
       "        vertical-align: top;\n",
       "    }\n",
       "\n",
       "    .dataframe thead th {\n",
       "        text-align: right;\n",
       "    }\n",
       "</style>\n",
       "<table border=\"1\" class=\"dataframe\">\n",
       "  <thead>\n",
       "    <tr style=\"text-align: right;\">\n",
       "      <th></th>\n",
       "      <th>0</th>\n",
       "      <th>1</th>\n",
       "      <th>2</th>\n",
       "      <th>3</th>\n",
       "      <th>4</th>\n",
       "      <th>5</th>\n",
       "    </tr>\n",
       "  </thead>\n",
       "  <tbody>\n",
       "    <tr>\n",
       "      <th>0</th>\n",
       "      <td>0.0</td>\n",
       "      <td>0.0</td>\n",
       "      <td>0.0</td>\n",
       "      <td>0.0</td>\n",
       "      <td>1.0</td>\n",
       "      <td>0.0</td>\n",
       "    </tr>\n",
       "    <tr>\n",
       "      <th>1</th>\n",
       "      <td>0.0</td>\n",
       "      <td>0.0</td>\n",
       "      <td>0.0</td>\n",
       "      <td>0.0</td>\n",
       "      <td>1.0</td>\n",
       "      <td>0.0</td>\n",
       "    </tr>\n",
       "    <tr>\n",
       "      <th>2</th>\n",
       "      <td>1.0</td>\n",
       "      <td>0.0</td>\n",
       "      <td>0.0</td>\n",
       "      <td>0.0</td>\n",
       "      <td>0.0</td>\n",
       "      <td>0.0</td>\n",
       "    </tr>\n",
       "    <tr>\n",
       "      <th>3</th>\n",
       "      <td>0.0</td>\n",
       "      <td>0.0</td>\n",
       "      <td>0.0</td>\n",
       "      <td>0.0</td>\n",
       "      <td>0.0</td>\n",
       "      <td>1.0</td>\n",
       "    </tr>\n",
       "    <tr>\n",
       "      <th>4</th>\n",
       "      <td>0.0</td>\n",
       "      <td>0.0</td>\n",
       "      <td>0.0</td>\n",
       "      <td>0.0</td>\n",
       "      <td>0.0</td>\n",
       "      <td>1.0</td>\n",
       "    </tr>\n",
       "  </tbody>\n",
       "</table>\n",
       "</div>"
      ],
      "text/plain": [
       "     0    1    2    3    4    5\n",
       "0  0.0  0.0  0.0  0.0  1.0  0.0\n",
       "1  0.0  0.0  0.0  0.0  1.0  0.0\n",
       "2  1.0  0.0  0.0  0.0  0.0  0.0\n",
       "3  0.0  0.0  0.0  0.0  0.0  1.0\n",
       "4  0.0  0.0  0.0  0.0  0.0  1.0"
      ]
     },
     "execution_count": 17,
     "metadata": {},
     "output_type": "execute_result"
    }
   ],
   "source": [
    "# Transformando o array em DataFrame\n",
    "\n",
    "ohe_df = pd.DataFrame(ohe_empresa_area.transform(tabela[['empresa_area']]).toarray())\n",
    "\n",
    "ohe_df.head(5)"
   ]
  },
  {
   "cell_type": "code",
   "execution_count": 18,
   "id": "01e00f04",
   "metadata": {},
   "outputs": [
    {
     "data": {
      "text/plain": [
       "array(['empresa_area_AirAsia', 'empresa_area_Air_India',\n",
       "       'empresa_area_GO_FIRST', 'empresa_area_Indigo',\n",
       "       'empresa_area_SpiceJet', 'empresa_area_Vistara'], dtype=object)"
      ]
     },
     "execution_count": 18,
     "metadata": {},
     "output_type": "execute_result"
    }
   ],
   "source": [
    "# Selencionando o nome das colunas\n",
    "\n",
    "colunas = ohe_empresa_area.get_feature_names_out()\n",
    "\n",
    "colunas"
   ]
  },
  {
   "cell_type": "code",
   "execution_count": 19,
   "id": "c144c433",
   "metadata": {},
   "outputs": [
    {
     "data": {
      "text/html": [
       "<div>\n",
       "<style scoped>\n",
       "    .dataframe tbody tr th:only-of-type {\n",
       "        vertical-align: middle;\n",
       "    }\n",
       "\n",
       "    .dataframe tbody tr th {\n",
       "        vertical-align: top;\n",
       "    }\n",
       "\n",
       "    .dataframe thead th {\n",
       "        text-align: right;\n",
       "    }\n",
       "</style>\n",
       "<table border=\"1\" class=\"dataframe\">\n",
       "  <thead>\n",
       "    <tr style=\"text-align: right;\">\n",
       "      <th></th>\n",
       "      <th>empresa_area_AirAsia</th>\n",
       "      <th>empresa_area_Air_India</th>\n",
       "      <th>empresa_area_GO_FIRST</th>\n",
       "      <th>empresa_area_Indigo</th>\n",
       "      <th>empresa_area_SpiceJet</th>\n",
       "      <th>empresa_area_Vistara</th>\n",
       "    </tr>\n",
       "  </thead>\n",
       "  <tbody>\n",
       "    <tr>\n",
       "      <th>0</th>\n",
       "      <td>0</td>\n",
       "      <td>0</td>\n",
       "      <td>0</td>\n",
       "      <td>0</td>\n",
       "      <td>1</td>\n",
       "      <td>0</td>\n",
       "    </tr>\n",
       "    <tr>\n",
       "      <th>1</th>\n",
       "      <td>0</td>\n",
       "      <td>0</td>\n",
       "      <td>0</td>\n",
       "      <td>0</td>\n",
       "      <td>1</td>\n",
       "      <td>0</td>\n",
       "    </tr>\n",
       "    <tr>\n",
       "      <th>2</th>\n",
       "      <td>1</td>\n",
       "      <td>0</td>\n",
       "      <td>0</td>\n",
       "      <td>0</td>\n",
       "      <td>0</td>\n",
       "      <td>0</td>\n",
       "    </tr>\n",
       "    <tr>\n",
       "      <th>3</th>\n",
       "      <td>0</td>\n",
       "      <td>0</td>\n",
       "      <td>0</td>\n",
       "      <td>0</td>\n",
       "      <td>0</td>\n",
       "      <td>1</td>\n",
       "    </tr>\n",
       "    <tr>\n",
       "      <th>4</th>\n",
       "      <td>0</td>\n",
       "      <td>0</td>\n",
       "      <td>0</td>\n",
       "      <td>0</td>\n",
       "      <td>0</td>\n",
       "      <td>1</td>\n",
       "    </tr>\n",
       "  </tbody>\n",
       "</table>\n",
       "</div>"
      ],
      "text/plain": [
       "   empresa_area_AirAsia  empresa_area_Air_India  empresa_area_GO_FIRST  \\\n",
       "0                     0                       0                      0   \n",
       "1                     0                       0                      0   \n",
       "2                     1                       0                      0   \n",
       "3                     0                       0                      0   \n",
       "4                     0                       0                      0   \n",
       "\n",
       "   empresa_area_Indigo  empresa_area_SpiceJet  empresa_area_Vistara  \n",
       "0                    0                      1                     0  \n",
       "1                    0                      1                     0  \n",
       "2                    0                      0                     0  \n",
       "3                    0                      0                     1  \n",
       "4                    0                      0                     1  "
      ]
     },
     "execution_count": 19,
     "metadata": {},
     "output_type": "execute_result"
    }
   ],
   "source": [
    "# Utilizando get_feature_names_out para nomear as colunas\n",
    "\n",
    "ohe_df = pd.DataFrame(ohe_empresa_area.transform(tabela[['empresa_area']]).toarray(),\n",
    "                     columns = colunas,\n",
    "                      dtype = 'int32'\n",
    "                     )\n",
    "\n",
    "ohe_df.head(5)"
   ]
  },
  {
   "cell_type": "code",
   "execution_count": 20,
   "id": "85bbfbd3",
   "metadata": {},
   "outputs": [
    {
     "data": {
      "text/html": [
       "<div>\n",
       "<style scoped>\n",
       "    .dataframe tbody tr th:only-of-type {\n",
       "        vertical-align: middle;\n",
       "    }\n",
       "\n",
       "    .dataframe tbody tr th {\n",
       "        vertical-align: top;\n",
       "    }\n",
       "\n",
       "    .dataframe thead th {\n",
       "        text-align: right;\n",
       "    }\n",
       "</style>\n",
       "<table border=\"1\" class=\"dataframe\">\n",
       "  <thead>\n",
       "    <tr style=\"text-align: right;\">\n",
       "      <th></th>\n",
       "      <th>empresa_area</th>\n",
       "      <th>origem</th>\n",
       "      <th>hr_embarque</th>\n",
       "      <th>paradas</th>\n",
       "      <th>hr_chegada</th>\n",
       "      <th>destino</th>\n",
       "      <th>classe</th>\n",
       "      <th>duracao</th>\n",
       "      <th>dias_antes</th>\n",
       "      <th>preco</th>\n",
       "      <th>economica</th>\n",
       "      <th>num_paradas</th>\n",
       "      <th>empresa_area_AirAsia</th>\n",
       "      <th>empresa_area_Air_India</th>\n",
       "      <th>empresa_area_GO_FIRST</th>\n",
       "      <th>empresa_area_Indigo</th>\n",
       "      <th>empresa_area_SpiceJet</th>\n",
       "      <th>empresa_area_Vistara</th>\n",
       "    </tr>\n",
       "  </thead>\n",
       "  <tbody>\n",
       "    <tr>\n",
       "      <th>0</th>\n",
       "      <td>SpiceJet</td>\n",
       "      <td>Delhi</td>\n",
       "      <td>Evening</td>\n",
       "      <td>zero</td>\n",
       "      <td>Night</td>\n",
       "      <td>Mumbai</td>\n",
       "      <td>Economy</td>\n",
       "      <td>2.17</td>\n",
       "      <td>1</td>\n",
       "      <td>5953</td>\n",
       "      <td>1</td>\n",
       "      <td>0</td>\n",
       "      <td>0</td>\n",
       "      <td>0</td>\n",
       "      <td>0</td>\n",
       "      <td>0</td>\n",
       "      <td>1</td>\n",
       "      <td>0</td>\n",
       "    </tr>\n",
       "    <tr>\n",
       "      <th>1</th>\n",
       "      <td>SpiceJet</td>\n",
       "      <td>Delhi</td>\n",
       "      <td>Early_Morning</td>\n",
       "      <td>zero</td>\n",
       "      <td>Morning</td>\n",
       "      <td>Mumbai</td>\n",
       "      <td>Economy</td>\n",
       "      <td>2.33</td>\n",
       "      <td>1</td>\n",
       "      <td>5953</td>\n",
       "      <td>1</td>\n",
       "      <td>0</td>\n",
       "      <td>0</td>\n",
       "      <td>0</td>\n",
       "      <td>0</td>\n",
       "      <td>0</td>\n",
       "      <td>1</td>\n",
       "      <td>0</td>\n",
       "    </tr>\n",
       "    <tr>\n",
       "      <th>2</th>\n",
       "      <td>AirAsia</td>\n",
       "      <td>Delhi</td>\n",
       "      <td>Early_Morning</td>\n",
       "      <td>zero</td>\n",
       "      <td>Early_Morning</td>\n",
       "      <td>Mumbai</td>\n",
       "      <td>Economy</td>\n",
       "      <td>2.17</td>\n",
       "      <td>1</td>\n",
       "      <td>5956</td>\n",
       "      <td>1</td>\n",
       "      <td>0</td>\n",
       "      <td>1</td>\n",
       "      <td>0</td>\n",
       "      <td>0</td>\n",
       "      <td>0</td>\n",
       "      <td>0</td>\n",
       "      <td>0</td>\n",
       "    </tr>\n",
       "    <tr>\n",
       "      <th>3</th>\n",
       "      <td>Vistara</td>\n",
       "      <td>Delhi</td>\n",
       "      <td>Morning</td>\n",
       "      <td>zero</td>\n",
       "      <td>Afternoon</td>\n",
       "      <td>Mumbai</td>\n",
       "      <td>Economy</td>\n",
       "      <td>2.25</td>\n",
       "      <td>1</td>\n",
       "      <td>5955</td>\n",
       "      <td>1</td>\n",
       "      <td>0</td>\n",
       "      <td>0</td>\n",
       "      <td>0</td>\n",
       "      <td>0</td>\n",
       "      <td>0</td>\n",
       "      <td>0</td>\n",
       "      <td>1</td>\n",
       "    </tr>\n",
       "    <tr>\n",
       "      <th>4</th>\n",
       "      <td>Vistara</td>\n",
       "      <td>Delhi</td>\n",
       "      <td>Morning</td>\n",
       "      <td>zero</td>\n",
       "      <td>Morning</td>\n",
       "      <td>Mumbai</td>\n",
       "      <td>Economy</td>\n",
       "      <td>2.33</td>\n",
       "      <td>1</td>\n",
       "      <td>5955</td>\n",
       "      <td>1</td>\n",
       "      <td>0</td>\n",
       "      <td>0</td>\n",
       "      <td>0</td>\n",
       "      <td>0</td>\n",
       "      <td>0</td>\n",
       "      <td>0</td>\n",
       "      <td>1</td>\n",
       "    </tr>\n",
       "  </tbody>\n",
       "</table>\n",
       "</div>"
      ],
      "text/plain": [
       "  empresa_area origem    hr_embarque paradas     hr_chegada destino   classe  \\\n",
       "0     SpiceJet  Delhi        Evening    zero          Night  Mumbai  Economy   \n",
       "1     SpiceJet  Delhi  Early_Morning    zero        Morning  Mumbai  Economy   \n",
       "2      AirAsia  Delhi  Early_Morning    zero  Early_Morning  Mumbai  Economy   \n",
       "3      Vistara  Delhi        Morning    zero      Afternoon  Mumbai  Economy   \n",
       "4      Vistara  Delhi        Morning    zero        Morning  Mumbai  Economy   \n",
       "\n",
       "   duracao  dias_antes  preco  economica  num_paradas  empresa_area_AirAsia  \\\n",
       "0     2.17           1   5953          1            0                     0   \n",
       "1     2.33           1   5953          1            0                     0   \n",
       "2     2.17           1   5956          1            0                     1   \n",
       "3     2.25           1   5955          1            0                     0   \n",
       "4     2.33           1   5955          1            0                     0   \n",
       "\n",
       "   empresa_area_Air_India  empresa_area_GO_FIRST  empresa_area_Indigo  \\\n",
       "0                       0                      0                    0   \n",
       "1                       0                      0                    0   \n",
       "2                       0                      0                    0   \n",
       "3                       0                      0                    0   \n",
       "4                       0                      0                    0   \n",
       "\n",
       "   empresa_area_SpiceJet  empresa_area_Vistara  \n",
       "0                      1                     0  \n",
       "1                      1                     0  \n",
       "2                      0                     0  \n",
       "3                      0                     1  \n",
       "4                      0                     1  "
      ]
     },
     "execution_count": 20,
     "metadata": {},
     "output_type": "execute_result"
    }
   ],
   "source": [
    "# Unir o df acima com o original\n",
    "\n",
    "tabela = pd.concat([tabela, ohe_df], axis=1)\n",
    "\n",
    "tabela.head(5)"
   ]
  },
  {
   "cell_type": "code",
   "execution_count": 21,
   "id": "3a78ab62",
   "metadata": {},
   "outputs": [
    {
     "data": {
      "text/html": [
       "<div>\n",
       "<style scoped>\n",
       "    .dataframe tbody tr th:only-of-type {\n",
       "        vertical-align: middle;\n",
       "    }\n",
       "\n",
       "    .dataframe tbody tr th {\n",
       "        vertical-align: top;\n",
       "    }\n",
       "\n",
       "    .dataframe thead th {\n",
       "        text-align: right;\n",
       "    }\n",
       "</style>\n",
       "<table border=\"1\" class=\"dataframe\">\n",
       "  <thead>\n",
       "    <tr style=\"text-align: right;\">\n",
       "      <th></th>\n",
       "      <th>empresa_area_AirAsia</th>\n",
       "      <th>empresa_area_Air_India</th>\n",
       "      <th>empresa_area_GO_FIRST</th>\n",
       "      <th>empresa_area_Indigo</th>\n",
       "      <th>empresa_area_SpiceJet</th>\n",
       "      <th>empresa_area_Vistara</th>\n",
       "    </tr>\n",
       "    <tr>\n",
       "      <th>empresa_area</th>\n",
       "      <th></th>\n",
       "      <th></th>\n",
       "      <th></th>\n",
       "      <th></th>\n",
       "      <th></th>\n",
       "      <th></th>\n",
       "    </tr>\n",
       "  </thead>\n",
       "  <tbody>\n",
       "    <tr>\n",
       "      <th>AirAsia</th>\n",
       "      <td>16098</td>\n",
       "      <td>0</td>\n",
       "      <td>0</td>\n",
       "      <td>0</td>\n",
       "      <td>0</td>\n",
       "      <td>0</td>\n",
       "    </tr>\n",
       "    <tr>\n",
       "      <th>Air_India</th>\n",
       "      <td>0</td>\n",
       "      <td>80892</td>\n",
       "      <td>0</td>\n",
       "      <td>0</td>\n",
       "      <td>0</td>\n",
       "      <td>0</td>\n",
       "    </tr>\n",
       "    <tr>\n",
       "      <th>GO_FIRST</th>\n",
       "      <td>0</td>\n",
       "      <td>0</td>\n",
       "      <td>23173</td>\n",
       "      <td>0</td>\n",
       "      <td>0</td>\n",
       "      <td>0</td>\n",
       "    </tr>\n",
       "    <tr>\n",
       "      <th>Indigo</th>\n",
       "      <td>0</td>\n",
       "      <td>0</td>\n",
       "      <td>0</td>\n",
       "      <td>43120</td>\n",
       "      <td>0</td>\n",
       "      <td>0</td>\n",
       "    </tr>\n",
       "    <tr>\n",
       "      <th>SpiceJet</th>\n",
       "      <td>0</td>\n",
       "      <td>0</td>\n",
       "      <td>0</td>\n",
       "      <td>0</td>\n",
       "      <td>9011</td>\n",
       "      <td>0</td>\n",
       "    </tr>\n",
       "    <tr>\n",
       "      <th>Vistara</th>\n",
       "      <td>0</td>\n",
       "      <td>0</td>\n",
       "      <td>0</td>\n",
       "      <td>0</td>\n",
       "      <td>0</td>\n",
       "      <td>127859</td>\n",
       "    </tr>\n",
       "  </tbody>\n",
       "</table>\n",
       "</div>"
      ],
      "text/plain": [
       "              empresa_area_AirAsia  empresa_area_Air_India  \\\n",
       "empresa_area                                                 \n",
       "AirAsia                      16098                       0   \n",
       "Air_India                        0                   80892   \n",
       "GO_FIRST                         0                       0   \n",
       "Indigo                           0                       0   \n",
       "SpiceJet                         0                       0   \n",
       "Vistara                          0                       0   \n",
       "\n",
       "              empresa_area_GO_FIRST  empresa_area_Indigo  \\\n",
       "empresa_area                                               \n",
       "AirAsia                           0                    0   \n",
       "Air_India                         0                    0   \n",
       "GO_FIRST                      23173                    0   \n",
       "Indigo                            0                43120   \n",
       "SpiceJet                          0                    0   \n",
       "Vistara                           0                    0   \n",
       "\n",
       "              empresa_area_SpiceJet  empresa_area_Vistara  \n",
       "empresa_area                                               \n",
       "AirAsia                           0                     0  \n",
       "Air_India                         0                     0  \n",
       "GO_FIRST                          0                     0  \n",
       "Indigo                            0                     0  \n",
       "SpiceJet                       9011                     0  \n",
       "Vistara                           0                127859  "
      ]
     },
     "execution_count": 21,
     "metadata": {},
     "output_type": "execute_result"
    }
   ],
   "source": [
    "# Resultado\n",
    "\n",
    "tabela.groupby('empresa_area')[colunas].sum()"
   ]
  }
 ],
 "metadata": {
  "kernelspec": {
   "display_name": "Python 3 (ipykernel)",
   "language": "python",
   "name": "python3"
  },
  "language_info": {
   "codemirror_mode": {
    "name": "ipython",
    "version": 3
   },
   "file_extension": ".py",
   "mimetype": "text/x-python",
   "name": "python",
   "nbconvert_exporter": "python",
   "pygments_lexer": "ipython3",
   "version": "3.9.13"
  }
 },
 "nbformat": 4,
 "nbformat_minor": 5
}
